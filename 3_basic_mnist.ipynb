{
 "cells": [
  {
   "cell_type": "markdown",
   "metadata": {
    "deletable": true,
    "editable": true
   },
   "source": [
    "This notebook contains code to train a linear classifier on MNIST. At the end is a short exercise."
   ]
  },
  {
   "cell_type": "code",
   "execution_count": 1,
   "metadata": {
    "collapsed": true,
    "deletable": true,
    "editable": true
   },
   "outputs": [],
   "source": [
    "from __future__ import absolute_import\n",
    "from __future__ import division\n",
    "from __future__ import print_function\n",
    "\n",
    "import tensorflow as tf\n",
    "from tensorflow.examples.tutorials.mnist import input_data\n",
    "\n",
    "import numpy as np\n",
    "import math\n",
    "\n",
    "%matplotlib inline\n",
    "import matplotlib.pyplot as plt\n",
    "\n",
    "import scipy\n",
    "import scipy.misc\n",
    "import math\n",
    "import PIL\n",
    "\n",
    "import sys\n",
    "import os\n",
    "import re\n",
    "import random\n",
    "import glob"
   ]
  },
  {
   "cell_type": "code",
   "execution_count": 2,
   "metadata": {
    "collapsed": true,
    "deletable": true,
    "editable": true
   },
   "outputs": [],
   "source": [
    "path = './images/'\n",
    "res_path = './res_png/'\n",
    "\n",
    "sess = None\n",
    "def ResetSession():\n",
    "    tf.reset_default_graph()\n",
    "    global sess\n",
    "    if sess is not None: sess.close()\n",
    "    sess = tf.InteractiveSession()\n",
    "ResetSession()"
   ]
  },
  {
   "cell_type": "markdown",
   "metadata": {
    "deletable": true,
    "editable": true
   },
   "source": [
    "Import the dataset"
   ]
  },
  {
   "cell_type": "code",
   "execution_count": 3,
   "metadata": {
    "collapsed": false,
    "deletable": true,
    "editable": true
   },
   "outputs": [],
   "source": [
    "# mnist = input_data.read_data_sets('/tmp/data', one_hot=True)"
   ]
  },
  {
   "cell_type": "code",
   "execution_count": 4,
   "metadata": {
    "collapsed": false
   },
   "outputs": [
    {
     "name": "stdout",
     "output_type": "stream",
     "text": [
      "done\n"
     ]
    }
   ],
   "source": [
    "NUM_CLASSES = 10\n",
    "NUM_PIXELS = 400 * 400\n",
    "TRAIN_STEPS = 100\n",
    "BATCH_SIZE = 100\n",
    "LEARNING_RATE = 0.5\n",
    "\n",
    "MAX_VAL = 255\n",
    "\n",
    "whole_set = glob.glob(path + '*.png')\n",
    "whole_labels = []\n",
    "whole_data = []\n",
    "random.shuffle(whole_set)\n",
    "for i in whole_set:\n",
    "#     print (i)\n",
    "    regex_res = re.search('X([0-9]*\\.?[0-9]+)_Y([0-9]*\\.?[0-9]+)(_X([0-9]*\\.?[0-9]+)_Y([0-9]*\\.?[0-9]+))?.png', i)\n",
    "    \n",
    "    append_label = np.zeros((NUM_CLASSES), dtype=np.float32)\n",
    "    x_ind = (int(regex_res.group(1)) - 1) / 40\n",
    "    np.put(append_label, x_ind, 1)\n",
    "    whole_labels.append(append_label)\n",
    "    \n",
    "    img = scipy.misc.imread(i, flatten=True, mode='L').astype(np.float)\n",
    "    img.shape = (NUM_PIXELS)\n",
    "    img = img / MAX_VAL\n",
    "#     print (np.amin(img), np.amax(img))\n",
    "    whole_data.append(img)\n",
    "#     break\n",
    "print (\"done\")"
   ]
  },
  {
   "cell_type": "code",
   "execution_count": 5,
   "metadata": {
    "collapsed": false,
    "deletable": true,
    "editable": true
   },
   "outputs": [
    {
     "name": "stdout",
     "output_type": "stream",
     "text": [
      "0 loss 2.302582\n"
     ]
    }
   ],
   "source": [
    "# mnist = input_data.read_data_sets('/tmp/data', one_hot=True)\n",
    "\n",
    "# Placeholders for images and labels\n",
    "# The first dimension is the batch size\n",
    "# None means it can be of any length\n",
    "# TensorFlow will infer it later\n",
    "x = tf.placeholder(tf.float32, [None, NUM_PIXELS], name=\"pixels\")\n",
    "y_ = tf.placeholder(tf.float32, [None, NUM_CLASSES], name=\"labels\")\n",
    "\n",
    "# Define the model\n",
    "W = tf.Variable(tf.zeros([NUM_PIXELS, NUM_CLASSES]), name=\"weights\")\n",
    "b = tf.Variable(tf.zeros([NUM_CLASSES]), name=\"biases\")\n",
    "y = tf.matmul(x, W) + b\n",
    "\n",
    "# Write a summary of the graph (before we add the loss and optimizer)\n",
    "# Which will add a bunch of nodes automatically\n",
    "\n",
    "# Define loss and optimizer\n",
    "loss = tf.reduce_mean(tf.nn.softmax_cross_entropy_with_logits(logits=y, labels=y_))\n",
    "train_step = tf.train.GradientDescentOptimizer(LEARNING_RATE).minimize(loss)\n",
    "tf.summary.scalar('loss', loss)\n",
    "\n",
    "merged = tf.summary.merge_all()\n",
    "sw = tf.summary.FileWriter('summaries/', graph=tf.get_default_graph())\n",
    "\n",
    "# Initialize variables after the model is defined\n",
    "sess.run(tf.global_variables_initializer())\n",
    "\n",
    "# Train the model\n",
    "for i in range(TRAIN_STEPS):\n",
    "#     batch_xs, batch_ys = mnist.train.next_batch(BATCH_SIZE)\n",
    "    sum_writer , _ , loss_val = sess.run([merged, train_step, loss], feed_dict={x: whole_data, y_: whole_labels})\n",
    "    sw.add_summary(sum_writer, i)\n",
    "    if i % 10 == 0: print (i, \"loss %f\" % loss_val)\n",
    "    break\n",
    "Weight = sess.run(W)\n"
   ]
  },
  {
   "cell_type": "code",
   "execution_count": 15,
   "metadata": {
    "collapsed": false
   },
   "outputs": [
    {
     "name": "stdout",
     "output_type": "stream",
     "text": [
      "(160000, 10)\n",
      "(400, 400)\n"
     ]
    },
    {
     "data": {
      "text/plain": [
       "<matplotlib.image.AxesImage at 0x7fea201fee90>"
      ]
     },
     "execution_count": 15,
     "metadata": {},
     "output_type": "execute_result"
    },
    {
     "data": {
      "image/png": "[encoded data removed]",
      "text/plain": [
       "<matplotlib.figure.Figure at 0x7fea2027d690>"
      ]
     },
     "metadata": {},
     "output_type": "display_data"
    }
   ],
   "source": [
    "print (Weight.shape)\n",
    "weight_0 = Weight[:, 1]\n",
    "weight_0.shape = (400, 400)\n",
    "print (weight_0.shape)\n",
    "plt.imshow(weight_0, cmap=plt.cm.gray_r)"
   ]
  },
  {
   "cell_type": "code",
   "execution_count": null,
   "metadata": {
    "collapsed": false
   },
   "outputs": [],
   "source": [
    "np.set_printoptions(threshold='inf')\n",
    "print (sess.run([W,b]))"
   ]
  },
  {
   "cell_type": "code",
   "execution_count": null,
   "metadata": {
    "collapsed": false,
    "deletable": true,
    "editable": true
   },
   "outputs": [],
   "source": [
    "test_set = glob.glob(res_path + '*.png')\n",
    "test_labels = []\n",
    "test_data = []\n",
    "random.shuffle(test_set)\n",
    "for i in test_set:\n",
    "    regex_res = re.search('X([0-9]*\\.?[0-9]+)_Y([0-9]*\\.?[0-9]+)(_X([0-9]*\\.?[0-9]+)_Y([0-9]*\\.?[0-9]+))?.png', i)\n",
    "    \n",
    "    append_label = np.zeros((NUM_CLASSES), dtype=np.float32)\n",
    "    x_ind = (int(regex_res.group(1)) - 1) / 40\n",
    "    np.put(append_label, x_ind, 1)\n",
    "    test_labels.append(append_label)\n",
    "    \n",
    "    img = scipy.misc.imread(i, flatten=False, mode='RGBA').astype(np.float)\n",
    "    img = img[:,:,3]\n",
    "    img.shape = (NUM_PIXELS)\n",
    "    img = img / MAX_VAL\n",
    "#     print (np.amin(img), np.amax(img))\n",
    "    test_data.append(img)\n",
    "    break\n",
    "print (\"done\")"
   ]
  },
  {
   "cell_type": "code",
   "execution_count": null,
   "metadata": {
    "collapsed": true
   },
   "outputs": [],
   "source": [
    "correct_prediction = tf.equal(tf.argmax(y, 1), tf.argmax(y_, 1))\n",
    "accuracy = tf.reduce_mean(tf.cast(correct_prediction, tf.float32))\n",
    "\n",
    "print(\"Accuracy %f\" % sess.run(accuracy, feed_dict={x: test_data,\n",
    "                                  y_: test_labels}))"
   ]
  },
  {
   "cell_type": "code",
   "execution_count": null,
   "metadata": {
    "collapsed": true
   },
   "outputs": [],
   "source": [
    "prediction = tf.argmax(y, 1)\n",
    "\n",
    "def predict(idx):\n",
    "    image = test_data[idx]\n",
    "    return sess.run(prediction, feed_dict={x: [image]})\n",
    "\n",
    "idx = 0\n",
    "actual = np.argmax(test_labels[idx])\n",
    "print (\"Predicted: %d, Actual: %d\" % (predict(idx), actual))\n",
    "output = (test_data[idx].reshape((400,400)) * 255)\n",
    "plt.imshow(output, cmap=plt.cm.gray_r)"
   ]
  }
 ],
 "metadata": {
  "kernelspec": {
   "display_name": "Python 2",
   "language": "python",
   "name": "python2"
  },
  "language_info": {
   "codemirror_mode": {
    "name": "ipython",
    "version": 2
   },
   "file_extension": ".py",
   "mimetype": "text/x-python",
   "name": "python",
   "nbconvert_exporter": "python",
   "pygments_lexer": "ipython2",
   "version": "2.7.12"
  }
 },
 "nbformat": 4,
 "nbformat_minor": 0
}
