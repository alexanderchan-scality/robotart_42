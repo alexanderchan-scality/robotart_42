{
 "cells": [
  {
   "cell_type": "markdown",
   "metadata": {
    "deletable": true,
    "editable": true
   },
   "source": [
    "This notebook contains code to train a linear classifier on MNIST. At the end is a short exercise."
   ]
  },
  {
   "cell_type": "code",
   "execution_count": 1,
   "metadata": {
    "collapsed": true,
    "deletable": true,
    "editable": true
   },
   "outputs": [],
   "source": [
    "from __future__ import absolute_import\n",
    "from __future__ import division\n",
    "from __future__ import print_function\n",
    "\n",
    "import tensorflow as tf\n",
    "from tensorflow.examples.tutorials.mnist import input_data\n",
    "\n",
    "import numpy as np\n",
    "import math\n",
    "\n",
    "%matplotlib inline\n",
    "import matplotlib.pyplot as plt\n",
    "\n",
    "import scipy\n",
    "import scipy.misc\n",
    "import math\n",
    "import PIL\n",
    "\n",
    "import sys\n",
    "import os\n",
    "import re\n",
    "import random\n",
    "import glob"
   ]
  },
  {
   "cell_type": "code",
   "execution_count": 2,
   "metadata": {
    "collapsed": true,
    "deletable": true,
    "editable": true
   },
   "outputs": [],
   "source": [
    "path = './images/'\n",
    "\n",
    "sess = None\n",
    "def ResetSession():\n",
    "    tf.reset_default_graph()\n",
    "    global sess\n",
    "    if sess is not None: sess.close()\n",
    "    sess = tf.InteractiveSession()\n",
    "ResetSession()"
   ]
  },
  {
   "cell_type": "code",
   "execution_count": 3,
   "metadata": {
    "collapsed": false,
    "deletable": true,
    "editable": true,
    "scrolled": true
   },
   "outputs": [
    {
     "name": "stdout",
     "output_type": "stream",
     "text": [
      "done\n"
     ]
    }
   ],
   "source": [
    "NUM_CLASSES = 10\n",
    "NUM_PIXELS = 400 * 400\n",
    "TRAIN_STEPS = 1000\n",
    "BATCH_SIZE = 100\n",
    "LEARNING_RATE = 0.5\n",
    "\n",
    "TEST_SIZE = 100\n",
    "TRAIN_SIZE = 1000\n",
    "\n",
    "MAX_VAL = 255\n",
    "\n",
    "whole_set = glob.glob(path + '*.png')\n",
    "random.shuffle(whole_set)\n",
    "test_set = whole_set[:TEST_SIZE]\n",
    "train_set = whole_set[TEST_SIZE:TRAIN_SIZE + TEST_SIZE]\n",
    "whole_set = []\n",
    "\n",
    "train_labels = []\n",
    "train_data = []\n",
    "for i in train_set:\n",
    "    regex_res = re.search('X([0-9]*\\.?[0-9]+)_Y([0-9]*\\.?[0-9]+)(_X([0-9]*\\.?[0-9]+)_Y([0-9]*\\.?[0-9]+))?.png', i)\n",
    "    \n",
    "    append_label = np.zeros((NUM_CLASSES), dtype=np.float32)\n",
    "    x_ind = (int(regex_res.group(1)) - 1) / 40\n",
    "    np.put(append_label, x_ind, 1)\n",
    "    train_labels.append(append_label)\n",
    "    \n",
    "    img = scipy.misc.imread(i, flatten=False, mode='RGBA').astype(np.float)\n",
    "    img = img[:,:,3]\n",
    "    img.shape = (NUM_PIXELS)\n",
    "    img = img / MAX_VAL\n",
    "#     print (np.amin(img), np.amax(img))\n",
    "    train_data.append(img)\n",
    "#     break\n",
    "train_tuple = (train_labels, train_data)\n",
    "print (\"done\")"
   ]
  },
  {
   "cell_type": "code",
   "execution_count": 4,
   "metadata": {
    "collapsed": false,
    "deletable": true,
    "editable": true
   },
   "outputs": [
    {
     "name": "stdout",
     "output_type": "stream",
     "text": [
      "0 loss 2.302732\n",
      "100 loss 0.038913\n",
      "200 loss 0.018652\n",
      "300 loss 0.012245\n",
      "400 loss 0.009108\n",
      "500 loss 0.007248\n",
      "600 loss 0.006018\n",
      "700 loss 0.005144\n",
      "800 loss 0.004492\n",
      "900 loss 0.003986\n"
     ]
    }
   ],
   "source": [
    "# mnist = input_data.read_data_sets('/tmp/data', one_hot=True)\n",
    "\n",
    "# Placeholders for images and labels\n",
    "# The first dimension is the batch size\n",
    "# None means it can be of any length\n",
    "# TensorFlow will infer it later\n",
    "x = tf.placeholder(tf.float32, [None, NUM_PIXELS], name=\"pixels\")\n",
    "y_ = tf.placeholder(tf.float32, [None, NUM_CLASSES], name=\"labels\")\n",
    "\n",
    "# Define the model\n",
    "W = tf.Variable(tf.truncated_normal(shape=[NUM_PIXELS, NUM_CLASSES], stddev=1.0 / math.sqrt(float(NUM_PIXELS))), name=\"weights\")\n",
    "b = tf.Variable(tf.truncated_normal(shape=[NUM_CLASSES], stddev=1.0 / math.sqrt(float(NUM_PIXELS))), name=\"biases\")\n",
    "y = tf.matmul(x, W) + b\n",
    "\n",
    "# Write a summary of the graph (before we add the loss and optimizer)\n",
    "# Which will add a bunch of nodes automatically\n",
    "\n",
    "# Define loss and optimizer\n",
    "loss = tf.reduce_mean(tf.nn.softmax_cross_entropy_with_logits(logits=y, labels=y_))\n",
    "train_step = tf.train.GradientDescentOptimizer(LEARNING_RATE).minimize(loss)\n",
    "tf.summary.scalar('loss', loss)\n",
    "\n",
    "merged = tf.summary.merge_all()\n",
    "sw = tf.summary.FileWriter('summaries/', graph=tf.get_default_graph())\n",
    "\n",
    "# Initialize variables after the model is defined\n",
    "sess.run(tf.global_variables_initializer())\n",
    "\n",
    "# Train the model\n",
    "for i in range(TRAIN_STEPS):\n",
    "#     random.shuffle(train_tuple)\n",
    "#     batch_xs, batch_ys = train_tuple[0][:BATCH_SIZE], train_tuple[1][:BATCH_SIZE]\n",
    "    sum_writer , _ , loss_val = sess.run([merged, train_step, loss], feed_dict={x: train_data, y_: train_labels})\n",
    "    sw.add_summary(sum_writer, i)\n",
    "    if i % 100 == 0:\n",
    "        print (i, \"loss %f\" % loss_val)\n",
    "        Weight = sess.run(W)\n",
    "        for j in range(NUM_CLASSES):\n",
    "            weight_0 = Weight[:, j]\n",
    "            weight_0.shape = (400, 400)\n",
    "            name = './weight_images/it_%d_class_%d.png' % (i, j)\n",
    "            scipy.misc.imsave(name, weight_0)\n",
    "#             plt.imshow(weight_0, cmap=plt.cm.gray_r)\n",
    "            \n",
    "            "
   ]
  },
  {
   "cell_type": "code",
   "execution_count": 12,
   "metadata": {
    "collapsed": false,
    "deletable": true,
    "editable": true
   },
   "outputs": [
    {
     "name": "stdout",
     "output_type": "stream",
     "text": [
      "done\n"
     ]
    }
   ],
   "source": [
    "test_data = []\n",
    "test_labels = []\n",
    "for i in test_set:\n",
    "    regex_res = re.search('X([0-9]*\\.?[0-9]+)_Y([0-9]*\\.?[0-9]+)(_X([0-9]*\\.?[0-9]+)_Y([0-9]*\\.?[0-9]+))?.png', i)\n",
    "    \n",
    "    append_label = np.zeros((NUM_CLASSES), dtype=np.float32)\n",
    "    x_ind = (int(regex_res.group(1)) - 1) / 40\n",
    "    np.put(append_label, x_ind, 1)\n",
    "    test_labels.append(append_label)\n",
    "    \n",
    "    img = scipy.misc.imread(i, flatten=False, mode='RGBA').astype(np.float)\n",
    "    img = img[:,:,3]\n",
    "    img.shape = (NUM_PIXELS)\n",
    "    img = img / MAX_VAL\n",
    "#     print (np.amin(img), np.amax(img))\n",
    "    test_data.append(img)\n",
    "print (\"done\")"
   ]
  },
  {
   "cell_type": "code",
   "execution_count": 13,
   "metadata": {
    "collapsed": false,
    "deletable": true,
    "editable": true
   },
   "outputs": [
    {
     "name": "stdout",
     "output_type": "stream",
     "text": [
      "Accuracy 0.910000\n"
     ]
    }
   ],
   "source": [
    "correct_prediction = tf.equal(tf.argmax(y, 1), tf.argmax(y_, 1))\n",
    "accuracy = tf.reduce_mean(tf.cast(correct_prediction, tf.float32))\n",
    "\n",
    "print(\"Accuracy %f\" % sess.run(accuracy, feed_dict={x: test_data,\n",
    "                                  y_: test_labels}))"
   ]
  },
  {
   "cell_type": "code",
   "execution_count": 14,
   "metadata": {
    "collapsed": false
   },
   "outputs": [
    {
     "name": "stdout",
     "output_type": "stream",
     "text": [
      "100 100\n"
     ]
    }
   ],
   "source": [
    "print (len(test_labels), len(test_data))"
   ]
  },
  {
   "cell_type": "code",
   "execution_count": 16,
   "metadata": {
    "collapsed": false,
    "deletable": true,
    "editable": true
   },
   "outputs": [
    {
     "name": "stdout",
     "output_type": "stream",
     "text": [
      "Predicted: 7, Actual: 7\n"
     ]
    },
    {
     "data": {
      "text/plain": [
       "<matplotlib.image.AxesImage at 0x7fbeb47df7d0>"
      ]
     },
     "execution_count": 16,
     "metadata": {},
     "output_type": "execute_result"
    },
    {
     "data": {
      "image/png": "[encoded data removed]",
      "text/plain": [
       "<matplotlib.figure.Figure at 0x7fbeb42aa290>"
      ]
     },
     "metadata": {},
     "output_type": "display_data"
    }
   ],
   "source": [
    "prediction = tf.argmax(y, 1)\n",
    "\n",
    "def predict(idx):\n",
    "    image = test_data[idx]\n",
    "    return sess.run(prediction, feed_dict={x: [image]})\n",
    "\n",
    "idx = 99\n",
    "actual = np.argmax(test_labels[idx])\n",
    "print (\"Predicted: %d, Actual: %d\" % (predict(idx), actual))\n",
    "output = (test_data[idx].reshape((400,400)) * 255)\n",
    "plt.imshow(output, cmap=plt.cm.gray_r)"
   ]
  },
  {
   "cell_type": "code",
   "execution_count": null,
   "metadata": {
    "collapsed": true
   },
   "outputs": [],
   "source": []
  }
 ],
 "metadata": {
  "kernelspec": {
   "display_name": "Python 2",
   "language": "python",
   "name": "python2"
  },
  "language_info": {
   "codemirror_mode": {
    "name": "ipython",
    "version": 2
   },
   "file_extension": ".py",
   "mimetype": "text/x-python",
   "name": "python",
   "nbconvert_exporter": "python",
   "pygments_lexer": "ipython2",
   "version": "2.7.12"
  }
 },
 "nbformat": 4,
 "nbformat_minor": 0
}
