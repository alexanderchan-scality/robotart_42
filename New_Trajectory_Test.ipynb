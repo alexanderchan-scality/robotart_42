{
 "cells": [
  {
   "cell_type": "code",
   "execution_count": 2,
   "metadata": {
    "collapsed": true,
    "deletable": true,
    "editable": true
   },
   "outputs": [],
   "source": [
    "#!/usr/bin/python\n",
    "\n",
    "import sys\n",
    "import os\n",
    "import random\n",
    "from math import *\n",
    "import numpy as np\n",
    "%matplotlib inline\n",
    "import matplotlib\n",
    "import matplotlib.pyplot as plt\n",
    "\n",
    "###############################################################################\n",
    "PLATE_ANGLE_MIN, PLATE_ANGLE_MAX = 0, 360\n",
    "ARM1_ANGLE_MIN, ARM1_ANGLE_MAX = -90, 90\n",
    "ARM2_ANGLE1_MIN, ARM2_ANGLE1_MAX = -90, 90\n",
    "ARM2_ANGLE2_MIN, ARM2_ANGLE2_MAX = -90, 90\n",
    "\n",
    "PLATE_INC = 36\n",
    "ARM1_INC = 18\n",
    "ARM2_INC1 = 18\n",
    "ARM2_INC2 = 18\n",
    "\n",
    "L1 = 160\n",
    "L2 = 200\n",
    "L3 = L1 + L2\n",
    "###############################################################################"
   ]
  },
  {
   "cell_type": "code",
   "execution_count": 3,
   "metadata": {
    "collapsed": false,
    "deletable": true,
    "editable": true,
    "scrolled": true
   },
   "outputs": [
    {
     "name": "stdout",
     "output_type": "stream",
     "text": [
      "[[ 190.99  677.86]]\n"
     ]
    },
    {
     "data": {
      "image/png": "[encoded data removed]",
      "text/plain": [
       "<matplotlib.figure.Figure at 0x10f664390>"
      ]
     },
     "metadata": {},
     "output_type": "display_data"
    },
    {
     "name": "stdout",
     "output_type": "stream",
     "text": [
      "([211.92000000000002, 334.95000000000005], [301.89000000000004, 336.51], 118, 5, 35, 9, 26)\n"
     ]
    }
   ],
   "source": [
    "# returns translation matrix\n",
    "def translate(s_pnt, d_pnt):\n",
    "    return (np.subtract(d_pnt, s_pnt))\n",
    "\n",
    "# returns the rotated point\n",
    "def rotate(pnt, angle):\n",
    "    radian = radians(angle)\n",
    "    rot_m = np.matrix([  [cos(radian), -sin(radian)],\n",
    "                        [sin(radian), cos(radian)]])\n",
    "    res_m = np.matmul(rot_m, pnt.T)\n",
    "    res_m = np.around(res_m, decimals=2)\n",
    "    return (res_m.T)\n",
    "\n",
    "def flip_x(pnt):\n",
    "    return (np.multiply(pnt, [-1, 1]))\n",
    "\n",
    "def flip_y(pnt):\n",
    "    return (np.multiply(pnt, [1, -1]))\n",
    "\n",
    "x1 = np.matrix([L3, 0])\n",
    "arm_1 = np.matrix([L1, 0])\n",
    "arm_2 = np.matrix([L2, 0])\n",
    "shift_m = np.matrix([L3, L3])\n",
    "x2 = np.matrix([0, 0])\n",
    "        \n",
    "# a1 = random.randint(PLATE_ANGLE_MIN, PLATE_ANGLE_MAX)\n",
    "# a2 = random.randint(ARM1_ANGLE_MIN, ARM1_ANGLE_MAX)\n",
    "# a3 = random.randint(ARM2_ANGLE1_MIN, ARM2_ANGLE1_MAX) + random.randint(ARM2_ANGLE2_MIN, ARM2_ANGLE2_MAX)\n",
    "\n",
    "a1, a2, a3, a4 = 118, 5, 35, 9\n",
    "pnt_x, pnt_y = [], []\n",
    "stroke_list = []\n",
    "if (True):\n",
    "# for a1 in range(PLATE_ANGLE_MIN, PLATE_ANGLE_MAX, PLATE_INC):\n",
    "    # Plate Rotation\n",
    "    x1_rot = rotate(x1, a1)\n",
    "    print_x1 = np.add(x1_rot, shift_m)\n",
    "    print (print_x1)\n",
    "\n",
    "    fig, ax = plt.subplots()\n",
    "    plate = plt.Circle((360,360), L3, color='black', zorder=0)\n",
    "    ax.add_artist(plate)\n",
    "    list_np = [i.tolist() for i in np.hsplit(shift_m, 2)]\n",
    "    pnt_x += list_np[0][0]\n",
    "    pnt_y += list_np[1][0]\n",
    "    ax.scatter(list_np[0][0], list_np[1][0], color='red')\n",
    "    list_np = [i.tolist() for i in np.hsplit(print_x1, 2)]\n",
    "    pnt_x += list_np[0][0]\n",
    "    pnt_y += list_np[1][0]\n",
    "    ax.scatter(list_np[0][0], list_np[1][0], color='green')\n",
    "    \n",
    "    if (True):\n",
    "#     for a2 in range(ARM1_ANGLE_MIN, ARM1_ANGLE_MAX + 1, ARM1_INC):\n",
    "        # Arm1 Rotation\n",
    "        arm_1_rot = rotate(arm_1, a2)\n",
    "        arm_1_rot = rotate(arm_1_rot, -a1)\n",
    "        arm_1_rot = flip_x(arm_1_rot)\n",
    "\n",
    "        arm_pnt = np.add(x2, x1_rot)\n",
    "        arm_pnt = np.add(arm_pnt, arm_1_rot)\n",
    "\n",
    "        print_arm = np.add(arm_pnt, shift_m)\n",
    "        \n",
    "        list_np = [i.tolist() for i in np.hsplit(print_arm, 2)]\n",
    "        pnt_x += list_np[0][0]\n",
    "        pnt_y += list_np[1][0]\n",
    "        ax.scatter(list_np[0][0], list_np[1][0], color='blue')\n",
    "\n",
    "        # Arm2 Rotation\n",
    "        if (True):\n",
    "            if (True):\n",
    "#         for a3 in range(ARM2_ANGLE1_MIN, ARM2_ANGLE1_MAX + 1, ARM2_INC1):\n",
    "#             for a4 in range(ARM2_ANGLE2_MIN, ARM2_ANGLE2_MAX + 1, ARM2_INC2):\n",
    "                arm_2_rot_1 = rotate(arm_2, a3)\n",
    "                arm_2_rot_1 = rotate(arm_2_rot_1, -a1)\n",
    "                arm_2_rot_1 = rotate(arm_2_rot_1, a2)\n",
    "                arm_2_rot_1 = flip_x(arm_2_rot_1)\n",
    "                \n",
    "                arm_2_rot_2 = rotate(arm_2, a4)\n",
    "                arm_2_rot_2 = rotate(arm_2_rot_2, -a1)\n",
    "                arm_2_rot_2 = rotate(arm_2_rot_2, a2)\n",
    "                arm_2_rot_2 = flip_x(arm_2_rot_2)\n",
    "\n",
    "                pen_pnt_1 = np.add(x2, x1_rot)\n",
    "                pen_pnt_1 = np.add(pen_pnt_1, arm_1_rot)\n",
    "                pen_pnt_2 = np.add(pen_pnt_1, arm_2_rot_2)\n",
    "                pen_pnt_1 = np.add(pen_pnt_1, arm_2_rot_1)\n",
    "                \n",
    "                pen_pnt_1 = np.add(pen_pnt_1, shift_m)\n",
    "                pen_pnt_2 = np.add(pen_pnt_2, shift_m)\n",
    "#                 abs_val = abs(a3 - a4)\n",
    "#                 print(a3 + a4)\n",
    "                if (True):\n",
    "#                 if (abs_val >= 30) and (abs_val <= 90):\n",
    "                    stroke_list.append((pen_pnt_1.tolist()[0], pen_pnt_2.tolist()[0], a1, a2, a3, a4, a3 - a4))\n",
    "    list_np = [i.tolist() for i in np.hsplit(pen_pnt_1, 2)]\n",
    "    pnt_x += list_np[0][0]\n",
    "    pnt_y += list_np[1][0]\n",
    "    ax.scatter(list_np[0][0], list_np[1][0], color='yellow')\n",
    "    list_np = [i.tolist() for i in np.hsplit(pen_pnt_2, 2)]\n",
    "    pnt_x += list_np[0][0]\n",
    "    pnt_y += list_np[1][0]\n",
    "    ax.scatter(list_np[0][0], list_np[1][0], color='yellow')\n",
    "\n",
    "    ax.plot(pnt_x, pnt_y)\n",
    "    plt.xlim(-100, 1000)\n",
    "    plt.ylim(-100, 1000)\n",
    "    plt.show()\n",
    "\n",
    "for i in stroke_list:\n",
    "    print (i)"
   ]
  },
  {
   "cell_type": "code",
   "execution_count": null,
   "metadata": {
    "collapsed": true,
    "deletable": true,
    "editable": true
   },
   "outputs": [],
   "source": [
    "\n",
    "\n",
    "\n",
    "\n"
   ]
  }
 ],
 "metadata": {
  "kernelspec": {
   "display_name": "Python 2",
   "language": "python",
   "name": "python2"
  },
  "language_info": {
   "codemirror_mode": {
    "name": "ipython",
    "version": 2
   },
   "file_extension": ".py",
   "mimetype": "text/x-python",
   "name": "python",
   "nbconvert_exporter": "python",
   "pygments_lexer": "ipython2",
   "version": "2.7.13"
  }
 },
 "nbformat": 4,
 "nbformat_minor": 2
}
