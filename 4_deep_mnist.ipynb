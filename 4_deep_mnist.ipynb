{
 "cells": [
  {
   "cell_type": "markdown",
   "metadata": {
    "deletable": true,
    "editable": true
   },
   "source": [
    "This notebook contains code to train a neural network with one hidden layer on MNIST. At the end is a short exercise to add a second layer."
   ]
  },
  {
   "cell_type": "code",
   "execution_count": 15,
   "metadata": {
    "collapsed": false,
    "deletable": true,
    "editable": true
   },
   "outputs": [
    {
     "name": "stdout",
     "output_type": "stream",
     "text": [
      "<function imread at 0x7fb902c5f488>\n"
     ]
    }
   ],
   "source": [
    "from __future__ import absolute_import\n",
    "from __future__ import division\n",
    "from __future__ import print_function\n",
    "\n",
    "import tensorflow as tf\n",
    "from tensorflow.examples.tutorials.mnist import input_data\n",
    "\n",
    "import numpy as np\n",
    "import scipy\n",
    "import scipy.misc\n",
    "import math\n",
    "import PIL\n",
    "\n",
    "%matplotlib inline\n",
    "import matplotlib.pyplot as plt\n",
    "\n",
    "import sys\n",
    "import os\n",
    "import re\n",
    "import random\n",
    "import glob\n",
    "\n",
    "print (scipy.misc.imread)"
   ]
  },
  {
   "cell_type": "code",
   "execution_count": 16,
   "metadata": {
    "collapsed": true,
    "deletable": true,
    "editable": true
   },
   "outputs": [],
   "source": [
    "path = './images/'\n",
    "res_path = './res_png/'\n",
    "\n",
    "sess = None\n",
    "def ResetSession():\n",
    "    tf.reset_default_graph()\n",
    "    global sess\n",
    "    if sess is not None: sess.close()\n",
    "    sess = tf.InteractiveSession()\n",
    "ResetSession()"
   ]
  },
  {
   "cell_type": "markdown",
   "metadata": {
    "deletable": true,
    "editable": true
   },
   "source": [
    "### Code for a single hidden layer nn"
   ]
  },
  {
   "cell_type": "code",
   "execution_count": 17,
   "metadata": {
    "collapsed": false,
    "deletable": true,
    "editable": true,
    "scrolled": true
   },
   "outputs": [
    {
     "name": "stdout",
     "output_type": "stream",
     "text": [
      "0 loss 0.956573\n",
      "10 loss 45001.042969\n",
      "20 loss 5471.138672\n",
      "30 loss 665.241150\n",
      "40 loss 80.956223\n",
      "50 loss 9.920952\n",
      "60 loss 1.284725\n",
      "70 loss 0.234758\n",
      "80 loss 0.107106\n",
      "90 loss 0.091586\n",
      "100 loss 0.089700\n",
      "110 loss 0.089470\n",
      "120 loss 0.089443\n",
      "130 loss 0.089439\n",
      "140 loss 0.089438\n"
     ]
    }
   ],
   "source": [
    "\n",
    "NUM_CLASSES = 10\n",
    "NUM_PIXELS = 400 * 400\n",
    "\n",
    "BATCH_SIZE = 100\n",
    "\n",
    "MAX_VAL = 255\n",
    "\n",
    "whole_set = glob.glob(path + '*.png')\n",
    "whole_labels = []\n",
    "whole_data = []\n",
    "random.shuffle(whole_set)\n",
    "for i in whole_set:\n",
    "#     print (i)\n",
    "    regex_res = re.search('X([0-9]*\\.?[0-9]+)_Y([0-9]*\\.?[0-9]+)(_X([0-9]*\\.?[0-9]+)_Y([0-9]*\\.?[0-9]+))?.png', i)\n",
    "    \n",
    "    append_label = np.zeros((NUM_CLASSES), dtype=np.float32)\n",
    "    x_ind = (int(regex_res.group(1)) - 1) / 40\n",
    "    np.put(append_label, x_ind, 1)\n",
    "    whole_labels.append(append_label)\n",
    "    \n",
    "    img = scipy.misc.imread(i, flatten=True, mode='L').astype(np.float)\n",
    "    img.shape = (NUM_PIXELS)\n",
    "    img = img / MAX_VAL\n",
    "#     print (np.amin(img), np.amax(img))\n",
    "    whole_data.append(img)\n",
    "#     break\n",
    "\n",
    "# mnist = input_data.read_data_sets('/tmp/data', one_hot=True);\n",
    "\n",
    "TRAIN_STEPS = 150\n",
    "\n",
    "HIDDEN1_UNITS = 128\n",
    "LEARNING_RATE = 0.5\n",
    "\n",
    "# As before, here are our placeholders for images and labels\n",
    "x = tf.placeholder(tf.float32, [None, NUM_PIXELS], name=\"pixels\")\n",
    "y_ = tf.placeholder(tf.float32, [None, NUM_CLASSES], name=\"labels\")\n",
    "\n",
    "def weight_variable(inputs, outputs, name):\n",
    "    # why initialize weights this way?\n",
    "    # http://cs231n.github.io/neural-networks-2/\n",
    "    initial = tf.truncated_normal(shape=[inputs, outputs], stddev=1.0 / math.sqrt(float(inputs)))\n",
    "    return tf.Variable(initial, name=name)\n",
    "\n",
    "def bias_variable(shape, name):\n",
    "    initial = tf.constant(0.0, shape=[shape])\n",
    "    return tf.Variable(initial, name=name)\n",
    "\n",
    "weights1 = weight_variable(NUM_PIXELS, HIDDEN1_UNITS, \"weights1\")\n",
    "biases1 = bias_variable(HIDDEN1_UNITS, \"biases1\")\n",
    "hidden1 = tf.nn.relu(tf.matmul(x, weights1) + biases1, name=\"hidden1\")\n",
    "\n",
    "weights2 = weight_variable(HIDDEN1_UNITS, NUM_CLASSES, \"weights2\")\n",
    "biases2 = bias_variable(NUM_CLASSES, \"biases2\")\n",
    "\n",
    "y = tf.matmul(hidden1, weights2) + biases2\n",
    "\n",
    "# Write a summary of the graph (before we add the loss and optimizer)\n",
    "# Which will add a bunch of nodes automatically\n",
    "# sw = tf.summary.FileWriter('summaries/single_hidden', graph=tf.get_default_graph())\n",
    "# sw.close()\n",
    "\n",
    "# Define loss and optimizer\n",
    "cross_entropy = tf.reduce_mean(tf.losses.mean_squared_error(predictions=y, labels=y_))\n",
    "train_step = tf.train.GradientDescentOptimizer(LEARNING_RATE).minimize(cross_entropy)\n",
    "\n",
    "sess.run(tf.global_variables_initializer())\n",
    "\n",
    "for i in range(TRAIN_STEPS):\n",
    "    \n",
    "    _, loss = sess.run([train_step, cross_entropy], feed_dict={x: whole_data, y_: whole_labels})\n",
    "\n",
    "    if i % 10 == 0: print (i, \"loss %f\" % loss)\n",
    "        "
   ]
  },
  {
   "cell_type": "code",
   "execution_count": 61,
   "metadata": {
    "collapsed": false,
    "scrolled": false
   },
   "outputs": [
    {
     "name": "stdout",
     "output_type": "stream",
     "text": [
      "done\n"
     ]
    }
   ],
   "source": [
    "np.set_printoptions(threshold='nan')\n",
    "\n",
    "test_set = glob.glob(res_path + '*.png')\n",
    "test_labels = []\n",
    "test_data = []\n",
    "random.shuffle(test_set)\n",
    "for i in test_set:\n",
    "    regex_res = re.search('X([0-9]*\\.?[0-9]+)_Y([0-9]*\\.?[0-9]+)(_X([0-9]*\\.?[0-9]+)_Y([0-9]*\\.?[0-9]+))?.png', i)\n",
    "    \n",
    "    append_label = np.zeros((NUM_CLASSES), dtype=np.float32)\n",
    "    x_ind = (int(regex_res.group(1)) - 1) / 40\n",
    "    np.put(append_label, x_ind, 1)\n",
    "    test_labels.append(append_label)\n",
    "    \n",
    "    img = scipy.misc.imread(i, flatten=False, mode='RGBA').astype(np.float)\n",
    "    img = img[:,:,3]\n",
    "    img.shape = (NUM_PIXELS)\n",
    "    img = img / MAX_VAL\n",
    "#     print (np.amin(img), np.amax(img))\n",
    "    test_data.append(img)\n",
    "    break\n",
    "print (\"done\")"
   ]
  },
  {
   "cell_type": "code",
   "execution_count": 64,
   "metadata": {
    "collapsed": false
   },
   "outputs": [
    {
     "name": "stdout",
     "output_type": "stream",
     "text": [
      "Accuracy 0.000000\n"
     ]
    }
   ],
   "source": [
    "correct_prediction = tf.equal(tf.argmax(y, 1), tf.argmax(y_, 1))\n",
    "accuracy = tf.reduce_mean(tf.cast(correct_prediction, tf.float32))\n",
    "\n",
    "print(\"Accuracy %f\" % sess.run(accuracy, feed_dict={x: test_data,\n",
    "                                  y_: test_labels}))\n"
   ]
  },
  {
   "cell_type": "code",
   "execution_count": 65,
   "metadata": {
    "collapsed": false,
    "deletable": true,
    "editable": true,
    "scrolled": false
   },
   "outputs": [
    {
     "name": "stdout",
     "output_type": "stream",
     "text": [
      "Predicted: 6, Actual: 3\n"
     ]
    },
    {
     "data": {
      "text/plain": [
       "<matplotlib.image.AxesImage at 0x7fb8e10ba0d0>"
      ]
     },
     "execution_count": 65,
     "metadata": {},
     "output_type": "execute_result"
    },
    {
     "data": {
      "image/png": "[encoded data removed]",
      "text/plain": [
       "<matplotlib.figure.Figure at 0x7fb8e1254c10>"
      ]
     },
     "metadata": {},
     "output_type": "display_data"
    }
   ],
   "source": [
    "prediction = tf.argmax(y, 1)\n",
    "\n",
    "def predict(idx):\n",
    "    image = test_data[idx]\n",
    "    return sess.run(prediction, feed_dict={x: [image]})\n",
    "\n",
    "idx = 0\n",
    "actual = np.argmax(test_labels[idx])\n",
    "print (\"Predicted: %d, Actual: %d\" % (predict(idx), actual))\n",
    "output = (test_data[idx].reshape((400,400)) * 255)\n",
    "plt.imshow(output, cmap=plt.cm.gray_r)"
   ]
  },
  {
   "cell_type": "code",
   "execution_count": null,
   "metadata": {
    "collapsed": true
   },
   "outputs": [],
   "source": []
  }
 ],
 "metadata": {
  "kernelspec": {
   "display_name": "Python 2",
   "language": "python",
   "name": "python2"
  },
  "language_info": {
   "codemirror_mode": {
    "name": "ipython",
    "version": 2
   },
   "file_extension": ".py",
   "mimetype": "text/x-python",
   "name": "python",
   "nbconvert_exporter": "python",
   "pygments_lexer": "ipython2",
   "version": "2.7.12"
  }
 },
 "nbformat": 4,
 "nbformat_minor": 0
}
